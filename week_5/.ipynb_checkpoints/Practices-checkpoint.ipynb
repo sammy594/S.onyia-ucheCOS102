{
 "cells": [
  {
   "cell_type": "code",
   "execution_count": null,
   "id": "f9507803-6592-478e-9d58-711ccfcaa931",
   "metadata": {},
   "outputs": [],
   "source": [
    "import tkinter  as tk\n",
    "from tkinter import messagebox as msgbox\n",
    "\n",
    "#Handling button click  event\n",
    "def button_click():\n",
    "    print(\"Button clicked!\")\n",
    "    #show an information message box \n",
    "    msgbox.showinfo(\"Info\", \"Welcome to COS 102 GUI app!\\n\")\n",
    "    #Ask for user confirmation \n",
    "    result = msgbox.askyesno(\"Confirmation\" \"Do you want to continue?\")\n",
    "\n",
    "#Create the main window \n",
    "root =  tk.Tk()\n",
    "root.title(\"Home Page\")\n",
    "root.geometry(\"300x100\")\n",
    "\n",
    "#add a label widget \n",
    "label = tk.Label(root, text=\"Hello friend \\n\")\n",
    "label.pack()\n",
    "\n",
    "#add a button widget \n",
    "button = tk.Button(root, text=\"Click me !\", command=button_click)\n",
    "button.pack()\n",
    "\n",
    "# styling the button widget \n",
    "button.config(fg=\"red\", bg=\"yellow\") \n",
    "\n",
    "#start the event loop\n",
    "root.mainloop() "
   ]
  },
  {
   "cell_type": "code",
   "execution_count": 36,
   "id": "121fafd1-a192-4f83-8039-574875a96285",
   "metadata": {},
   "outputs": [],
   "source": [
    "import tkinter as tk\n",
    "from tkinter import messagebox \n",
    "from PIL import Image , ImageTk\n",
    "\n",
    "def welcomeMessage(username):\n",
    "    #Create a Tkinter window \n",
    "    window = tk.Toplevel(root)\n",
    "    window.title(\"Admin Box\")\n",
    "    window.geometry(\"500x200\")\n",
    "\n",
    "    label_1 = tk.Label(window, text=f\"Welcome {username}\\n\")\n",
    "    label_1.pack()\n",
    "    label_2 = tk.Label(window, text=\"This is the python GUI with tkinter\")\n",
    "    label_2.pack()\n",
    "\n",
    "\n",
    "    #Run the tkinter event loop \n",
    "    root.mainloop\n",
    "\n",
    "def submit():\n",
    "    username = username_entry.get()\n",
    "    password = password_entry.get()\n",
    "\n",
    "    if username == \"Mary\" and password == \"COS102\":\n",
    "         welcomeMessage(username)\n",
    "    else:\n",
    "         messagebox.showerror(\"login\", \"Invalid username or password\")\n",
    "\n",
    "\n",
    "#create main window \n",
    "root = tk.Tk()\n",
    "root.title(\"Login Form\")\n",
    "root.geometry(\"500x200\")\n",
    "\n",
    "\n",
    "#Create username label and entry \n",
    "username_label = tk. Label(root, text=\"Username:\")\n",
    "username_label.pack()\n",
    "username_entry = tk.Entry(root)\n",
    "username_entry.pack()\n",
    "\n",
    "\n",
    "#Create password and label and entry \n",
    "password_label = tk.Label(root, text=\"Password:\")\n",
    "password_label.pack()\n",
    "password_entry = tk.Entry(root)\n",
    "password_entry.pack()\n",
    "\n",
    "#Create submit button\n",
    "submit_button = tk.Button(root, text=\"Submit\" , command=submit)\n",
    "submit_button.pack()\n",
    "\n",
    "#Run the main event loop\n",
    "root.mainloop()"
   ]
  },
  {
   "cell_type": "code",
   "execution_count": 1,
   "id": "8c70de76-63e9-4539-898d-2533a7fbfa6f",
   "metadata": {},
   "outputs": [
    {
     "name": "stdout",
     "output_type": "stream",
     "text": [
      "[1, 2]\n",
      "[1, 2]\n"
     ]
    }
   ],
   "source": [
    "def combine(a, b=[]):\n",
    "    b.append(a)\n",
    "    return b\n",
    "\n",
    "list1 = combine(1)\n",
    "list2 = combine(2)\n",
    "print(list1)\n",
    "print(list2)"
   ]
  },
  {
   "cell_type": "code",
   "execution_count": 3,
   "id": "432a52f5-9f6a-4875-a4e4-c34bb1d291cc",
   "metadata": {},
   "outputs": [
    {
     "name": "stdout",
     "output_type": "stream",
     "text": [
      "im first call to user defined function !\n",
      "Again second call to the same function\n"
     ]
    }
   ],
   "source": [
    "def printme( str ):\n",
    "    #This is a print function\n",
    "    print ( str);\n",
    "    return;\n",
    "\n",
    "printme(\"im first call to user defined function !\");\n",
    "printme(\"Again second call to the same function\");"
   ]
  },
  {
   "cell_type": "code",
   "execution_count": 5,
   "id": "51c02b76-173e-4459-b3cd-86319754a793",
   "metadata": {},
   "outputs": [
    {
     "name": "stdout",
     "output_type": "stream",
     "text": [
      "Values inside the function:  [1, 2, 3, 4]\n",
      "Value outside the fuuction:  [10, 20, 30]\n"
     ]
    }
   ],
   "source": [
    "def changeme (mylist):\n",
    "    #This changes a passed list \n",
    "    mylist = [1,2,3,4];\n",
    "    print(\"Values inside the function: \", mylist)\n",
    "    return\n",
    "\n",
    "mylist = [10,20,30];\n",
    "changeme(mylist );\n",
    "print (\"Value outside the fuuction: \", mylist)"
   ]
  },
  {
   "cell_type": "code",
   "execution_count": 7,
   "id": "5c9eccd3-844f-45fb-b06a-2e1a355dd804",
   "metadata": {},
   "outputs": [
    {
     "name": "stdout",
     "output_type": "stream",
     "text": [
      "Python is fantastic\n"
     ]
    }
   ],
   "source": [
    "def myfunc():\n",
    "    global x\n",
    "    x = \"fantastic\"\n",
    "\n",
    "myfunc()\n",
    "\n",
    "print(\"Python is \" + x)"
   ]
  },
  {
   "cell_type": "code",
   "execution_count": 9,
   "id": "bb33efaf-69f7-42b5-858f-c70713e7feeb",
   "metadata": {},
   "outputs": [
    {
     "name": "stdout",
     "output_type": "stream",
     "text": [
      "Python is fantastic\n"
     ]
    }
   ],
   "source": [
    "x = \"awesome\"\n",
    "\n",
    "def myfunc():\n",
    "    global x\n",
    "    x = \"fantastic\"\n",
    "\n",
    "myfunc()\n",
    "\n",
    "print(\"Python is \" + x)"
   ]
  },
  {
   "cell_type": "code",
   "execution_count": 11,
   "id": "f7d91b8c-c4c2-46c9-876e-40b07794b928",
   "metadata": {},
   "outputs": [
    {
     "name": "stdout",
     "output_type": "stream",
     "text": [
      "im the first call to user defined function\n"
     ]
    }
   ],
   "source": [
    "def printme(str):\n",
    "    #This prints a passed string function\n",
    "    print(str);\n",
    "    return;\n",
    "printme(\"im the first call to user defined function\");"
   ]
  },
  {
   "cell_type": "code",
   "execution_count": 13,
   "id": "d2500a84-388b-4aae-993f-963973f80d52",
   "metadata": {},
   "outputs": [
    {
     "name": "stdout",
     "output_type": "stream",
     "text": [
      "Values inside the function:  [10, 20, 30, [1, 2, 3, 4]]\n",
      "Values outside the function:  [10, 20, 30, [1, 2, 3, 4]]\n"
     ]
    }
   ],
   "source": [
    "def changeme( mylist ):\n",
    "    #This changes a passed list\n",
    "    mylist.append([1,2,3,4])\n",
    "    print(\"Values inside the function: \", mylist)\n",
    "    return\n",
    "mylist = [10,20,30]\n",
    "changeme( mylist )\n",
    "print (\"Values outside the function: \", mylist )"
   ]
  },
  {
   "cell_type": "code",
   "execution_count": 15,
   "id": "b4a4401c-bb96-424d-8e90-203254a28a5f",
   "metadata": {},
   "outputs": [
    {
     "name": "stdout",
     "output_type": "stream",
     "text": [
      "Values outside the function:  [1, 2, 3, 4]\n",
      "Values outside the function:  [10, 20, 30]\n"
     ]
    }
   ],
   "source": [
    "def changeme( mylist ):\n",
    "    #This changes a passed list \n",
    "    mylist = [1,2,3,4,];\n",
    "    print(\"Values outside the function: \", mylist)\n",
    "    return\n",
    "mylist = [10,20,30];\n",
    "changeme( mylist );\n",
    "print (\"Values outside the function: \", mylist)"
   ]
  },
  {
   "cell_type": "code",
   "execution_count": 17,
   "id": "411d1cab-0e8c-4c1e-8a22-9aa27775732e",
   "metadata": {},
   "outputs": [
    {
     "name": "stdout",
     "output_type": "stream",
     "text": [
      "My string\n"
     ]
    }
   ],
   "source": [
    "def printme(str):\n",
    "    #this prints a passed string\n",
    "    print (str);\n",
    "    return;\n",
    "printme( str = \"My string\");\n",
    "    "
   ]
  },
  {
   "cell_type": "code",
   "execution_count": 19,
   "id": "9e8b7513-503d-410d-aa4d-f5d3d6396b02",
   "metadata": {},
   "outputs": [
    {
     "name": "stdout",
     "output_type": "stream",
     "text": [
      "Name:  miki\n",
      "Age:  50\n"
     ]
    }
   ],
   "source": [
    "def printinfo(name , age ):\n",
    "    #Test function\n",
    "    print (\"Name: \", name);\n",
    "    print (\"Age: \", age );\n",
    "    return;\n",
    "printinfo( age = 50, name = \"miki\")"
   ]
  },
  {
   "cell_type": "code",
   "execution_count": 21,
   "id": "eda910b5-1ce4-4506-8b5a-db92b656d840",
   "metadata": {},
   "outputs": [
    {
     "name": "stdout",
     "output_type": "stream",
     "text": [
      "Name:  miki\n",
      "Age:  50\n",
      "Name:  miki\n",
      "Age:  35\n"
     ]
    }
   ],
   "source": [
    "def printinfo(name , age = 35 ):\n",
    "    #Test function\n",
    "    print (\"Name: \", name);\n",
    "    print (\"Age: \", age );\n",
    "    return;\n",
    "printinfo(age = 50, name = \"miki\");\n",
    "printinfo( name =\"miki\" )"
   ]
  },
  {
   "cell_type": "code",
   "execution_count": 24,
   "id": "2d7be0ff-d41e-4b5b-a9f5-6da90e95abdc",
   "metadata": {},
   "outputs": [
    {
     "name": "stdout",
     "output_type": "stream",
     "text": [
      "Output is :  \n",
      "10\n",
      "Output is :  \n",
      "70\n",
      "60\n"
     ]
    }
   ],
   "source": [
    "def printinfo( arg1 , *vartuple ):\n",
    "    #This is test\n",
    "    print (\"Output is :  \")\n",
    "    print(arg1)\n",
    "    for var in vartuple:\n",
    "        print (var)\n",
    "        return;\n",
    "printinfo( 10 );\n",
    "printinfo (70 , 60, 50);"
   ]
  },
  {
   "cell_type": "code",
   "execution_count": 26,
   "id": "81ee8a53-efe9-434b-98d8-f07e0406e6c1",
   "metadata": {},
   "outputs": [
    {
     "name": "stdout",
     "output_type": "stream",
     "text": [
      "Inside the function local total :  30\n",
      "Outside the function global total :  50\n"
     ]
    }
   ],
   "source": [
    "total = 50; #This is global variable .\n",
    "def sum( arg1, arg2 ):\n",
    "    #add both the parameters\n",
    "    total = arg1 + arg2;\n",
    "    print (\"Inside the function local total : \", total)\n",
    "    return total;\n",
    "#Now you can call sum function\n",
    "sum(10,20 );\n",
    "print (\"Outside the function global total : \", total)"
   ]
  },
  {
   "cell_type": "code",
   "execution_count": 28,
   "id": "1dc5808d-abab-4beb-b44c-bb5ad7efb927",
   "metadata": {},
   "outputs": [
    {
     "name": "stdout",
     "output_type": "stream",
     "text": [
      "Lawal Edward Tolu Tina\n",
      "Mary\n"
     ]
    }
   ],
   "source": [
    "def swap(x, y):\n",
    "    global a\n",
    "    a = \"Lawal\"\n",
    "    x,y = y,x\n",
    "    b = \"Chris\"\n",
    "    b = \"Edward\"\n",
    "    c = \"Lola\"\n",
    "    print(a,b,x,y)\n",
    "    a = \"Mary\"\n",
    "swap(\"Tina\",\"Tolu\")\n",
    "print (a)"
   ]
  },
  {
   "cell_type": "code",
   "execution_count": null,
   "id": "6dfc75a6-6924-4072-9fd2-4238c6cd14bd",
   "metadata": {},
   "outputs": [],
   "source": []
  }
 ],
 "metadata": {
  "kernelspec": {
   "display_name": "Python [conda env:base] *",
   "language": "python",
   "name": "conda-base-py"
  },
  "language_info": {
   "codemirror_mode": {
    "name": "ipython",
    "version": 3
   },
   "file_extension": ".py",
   "mimetype": "text/x-python",
   "name": "python",
   "nbconvert_exporter": "python",
   "pygments_lexer": "ipython3",
   "version": "3.12.7"
  }
 },
 "nbformat": 4,
 "nbformat_minor": 5
}
