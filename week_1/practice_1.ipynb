{
 "cells": [
  {
   "cell_type": "code",
   "execution_count": 3,
   "id": "4c4306db-247c-4018-b058-2683dfa35d89",
   "metadata": {},
   "outputs": [
    {
     "name": "stdout",
     "output_type": "stream",
     "text": [
      "100\n",
      "Data Type of variable num is <class 'int'>\n",
      "34.45\n",
      "Data Type of variable fnum is <class 'float'>\n",
      "(3+4j)\n",
      "Data Type of variable cnum is <class 'complex'>\n"
     ]
    }
   ],
   "source": [
    "#integer number\n",
    "num = 100\n",
    "print(num)\n",
    "print(\"Data Type of variable num is\",type(num))\n",
    "\n",
    "#float number\n",
    "fnum = 34.45\n",
    "print(fnum)\n",
    "print(\"Data Type of variable fnum is\", type(fnum))\n",
    "\n",
    "#complex number \n",
    "cnum = 3 + 4j\n",
    "print(cnum)\n",
    "print(\"Data Type of variable cnum is\", type(cnum))"
   ]
  },
  {
   "cell_type": "code",
   "execution_count": null,
   "id": "fd5bbbd7-4e95-4c92-a8cc-a71dcab4e1bb",
   "metadata": {},
   "outputs": [],
   "source": []
  }
 ],
 "metadata": {
  "kernelspec": {
   "display_name": "Python [conda env:base] *",
   "language": "python",
   "name": "conda-base-py"
  },
  "language_info": {
   "codemirror_mode": {
    "name": "ipython",
    "version": 3
   },
   "file_extension": ".py",
   "mimetype": "text/x-python",
   "name": "python",
   "nbconvert_exporter": "python",
   "pygments_lexer": "ipython3",
   "version": "3.12.7"
  }
 },
 "nbformat": 4,
 "nbformat_minor": 5
}
