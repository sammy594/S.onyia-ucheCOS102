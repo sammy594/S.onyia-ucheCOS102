{
 "cells": [
  {
   "cell_type": "code",
   "execution_count": 11,
   "id": "31f4181f-0957-4b50-9c65-94a4cdd2a8e5",
   "metadata": {},
   "outputs": [
    {
     "name": "stdout",
     "output_type": "stream",
     "text": [
      "14.879999999999999\n"
     ]
    }
   ],
   "source": [
    "#Simple interest\n",
    "P = 12\n",
    "R = 4\n",
    "T = 6\n",
    "A = P * (1 + (R / 100) * T)\n",
    "print(A)"
   ]
  },
  {
   "cell_type": "code",
   "execution_count": 21,
   "id": "4a0bb179-65b0-4a7b-a26f-a2776c7ed583",
   "metadata": {},
   "outputs": [
    {
     "name": "stdout",
     "output_type": "stream",
     "text": [
      "72.88201954000006\n"
     ]
    }
   ],
   "source": [
    "#compound interest \n",
    "P = 34\n",
    "R = 5\n",
    "n = 2\n",
    "t = 4\n",
    "A = P * (1 + R / 100 * n)**(n * t)\n",
    "print (A)"
   ]
  },
  {
   "cell_type": "code",
   "execution_count": 37,
   "id": "f334164d-54a7-4ad5-9488-928305a5b4c0",
   "metadata": {},
   "outputs": [
    {
     "name": "stdout",
     "output_type": "stream",
     "text": [
      "183.4584339083305\n"
     ]
    }
   ],
   "source": [
    "#Annuity plan\n",
    "PMT =21\n",
    "R = 5\n",
    "n = 2\n",
    "rperperiod = R /(100 * n)\n",
    "A = PMT * (((1 + rperperiod ) ** (n * t) - 1) / rperperiod)\n",
    "print (A)"
   ]
  },
  {
   "cell_type": "code",
   "execution_count": null,
   "id": "6c7e4ed0-ba29-42b1-acc5-ad974f6d27e4",
   "metadata": {},
   "outputs": [],
   "source": []
  }
 ],
 "metadata": {
  "kernelspec": {
   "display_name": "Python [conda env:base] *",
   "language": "python",
   "name": "conda-base-py"
  },
  "language_info": {
   "codemirror_mode": {
    "name": "ipython",
    "version": 3
   },
   "file_extension": ".py",
   "mimetype": "text/x-python",
   "name": "python",
   "nbconvert_exporter": "python",
   "pygments_lexer": "ipython3",
   "version": "3.12.7"
  }
 },
 "nbformat": 4,
 "nbformat_minor": 5
}
