{
 "cells": [
  {
   "cell_type": "code",
   "execution_count": 5,
   "id": "cccde841-6058-427a-8476-7695a849fc29",
   "metadata": {},
   "outputs": [
    {
     "name": "stdin",
     "output_type": "stream",
     "text": [
      "Enter the state of origin: enugu\n"
     ]
    },
    {
     "name": "stdout",
     "output_type": "stream",
     "text": [
      "Your state of origin is: enugu\n",
      "The first character is:  e\n",
      "The character starting from 3rd to 5th are:  gu\n",
      "The string starting from third character is:  ugu\n",
      "State the origin two times enuguenugu\n"
     ]
    }
   ],
   "source": [
    "str = input(\"Enter the state of origin:\")\n",
    "\n",
    "print (\"Your state of origin is:\", str)\n",
    "print (\"The first character is: \", str[0])\n",
    "print (\"The character starting from 3rd to 5th are: \", str[3:5])\n",
    "print (\"The string starting from third character is: \", str[2:])\n",
    "print (\"State the origin two times\", str * 2)"
   ]
  },
  {
   "cell_type": "code",
   "execution_count": 2,
   "id": "739ce430-ad18-4ad5-84fe-288ef47b0b4c",
   "metadata": {},
   "outputs": [
    {
     "name": "stdin",
     "output_type": "stream",
     "text": [
      "Enter mass in kilograms:  23\n"
     ]
    },
    {
     "name": "stdout",
     "output_type": "stream",
     "text": [
      "The energy equivalent to 23.0 kg of mass is 2.0671369110946806e+18 joules. \n"
     ]
    }
   ],
   "source": [
    "# Input from user \n",
    "m = float (input (\"Enter mass in kilograms: \"))\n",
    "\n",
    "#Constant value for the speed of light in m/s\n",
    "c = 299792458\n",
    "\n",
    "#Calculating energy using einsteins eequation\n",
    "energy = m *c ** 2\n",
    "\n",
    "#Displaying the result \n",
    "print(f\"The energy equivalent to {m} kg of mass is {energy} joules. \")\n"
   ]
  },
  {
   "cell_type": "code",
   "execution_count": 6,
   "id": "b4f75af2-2e9e-4d0f-8beb-add79a258be2",
   "metadata": {},
   "outputs": [
    {
     "name": "stdout",
     "output_type": "stream",
     "text": [
      "['Anaconda', 786, 2.23, 'Jupyter', 70.2]\n",
      "Anaconda\n",
      "[786, 2.23]\n",
      "[2.23, 'Jupyter', 70.2]\n",
      "[321, 'Python', 321, 'Python']\n",
      "['Anaconda', 786, 2.23, 'Jupyter', 70.2, 321, 'Python']\n"
     ]
    }
   ],
   "source": [
    "list = [ 'Anaconda', 786 , 2.23, 'Jupyter', 70.2]\n",
    "shortlist = [321, 'Python']\n",
    "\n",
    "print(list)     #prints complete list \n",
    "print(list[0])   #Prints first element of the list\n",
    "print(list[1:3])  #Prints elements starting from 2nd till third\n",
    "print(list[2:])   #prints elements starting from 3rd element\n",
    "print(shortlist * 2)  #prints list two times\n",
    "print(list + shortlist) #Prints concatenated lists"
   ]
  },
  {
   "cell_type": "code",
   "execution_count": null,
   "id": "659e0ace-6ca8-4563-b0d3-34eabd205b17",
   "metadata": {},
   "outputs": [],
   "source": []
  },
  {
   "cell_type": "code",
   "execution_count": 36,
   "id": "fe41f2a3-3b2c-4ece-b55f-501fdb40942b",
   "metadata": {},
   "outputs": [
    {
     "name": "stdout",
     "output_type": "stream",
     "text": [
      "('EKiti', 750, 'oshogbo', 250, 'Akure', 500)\n",
      "500\n",
      "(750, 'oshogbo')\n",
      "(250, 'Akure', 500)\n",
      "('Abeokuta', 300, 'Ogbomoso', 'Abeokuta', 300, 'Ogbomoso', 'Abeokuta', 300, 'Ogbomoso')\n",
      "('EKiti', 750, 'oshogbo', 250, 'Akure', 500, 'Abeokuta', 300, 'Ogbomoso')\n"
     ]
    }
   ],
   "source": [
    "tuple = (\"EKiti\" , 750, 'oshogbo' , 250, \"Akure\", 500)\n",
    "s_tuple = ('Abeokuta', 300, \"Ogbomoso\")\n",
    "\n",
    "# Prints the complete tuple\n",
    "print (tuple)\n",
    "\n",
    "#Prints last element of the tuple\n",
    "print(tuple[-1])\n",
    "\n",
    "#prints element sof the tuple starting from 2nd till 3rd\n",
    "print(tuple[1:3])\n",
    "\n",
    "#print elements of the tuple starting form the 3rd element \n",
    "print(tuple[3:])\n",
    "\n",
    "#print the content of the tuple twice\n",
    "print (s_tuple * 3)\n",
    "\n",
    "#Prints concatenated tuples\n",
    "print (tuple + s_tuple)\n"
   ]
  },
  {
   "cell_type": "code",
   "execution_count": 10,
   "id": "d34e986f-140a-44fa-96f2-33ff4616d5a9",
   "metadata": {},
   "outputs": [
    {
     "name": "stdout",
     "output_type": "stream",
     "text": [
      "False\n",
      "False\n",
      "False\n",
      "False\n",
      "True\n"
     ]
    }
   ],
   "source": [
    "#Returns false as game_1 is not equal to game_2\n",
    "game_1 = 2\n",
    "game_2 = 4\n",
    "print(bool(game_1 == game_2))\n",
    "# Or \n",
    "print(game_1 == game_2)\n",
    "\n",
    "#Return False as val is None \n",
    "val = None\n",
    "print(bool(val))\n",
    "\n",
    "#Returns false as num is an empty sequence\n",
    "num = ()\n",
    "print(bool())\n",
    "\n",
    "#Returns true as age is boolean\n",
    "age = True\n",
    "print(bool(age))"
   ]
  },
  {
   "cell_type": "code",
   "execution_count": 12,
   "id": "6948d629-a9fd-4ab9-a651-22ae9effb4c9",
   "metadata": {},
   "outputs": [
    {
     "name": "stdout",
     "output_type": "stream",
     "text": [
      "Grade = 70\n",
      "GPA = 4\n",
      "CGPA = 4\n"
     ]
    }
   ],
   "source": [
    "#Convert to int\n",
    "\n",
    "grade = int(70)\n",
    "gpa = int (4.9)\n",
    "cgpa = int (\"4\")\n",
    "\n",
    "print(f\"Grade = {grade}\")\n",
    "print(f\"GPA = {gpa}\")\n",
    "print(f\"CGPA = {cgpa}\")"
   ]
  },
  {
   "cell_type": "code",
   "execution_count": 14,
   "id": "e84e4703-0ae7-4dff-885b-1c654dbc98d5",
   "metadata": {},
   "outputs": [
    {
     "name": "stdout",
     "output_type": "stream",
     "text": [
      "Grade = 97.0\n",
      "GPA = 5.0\n",
      "CGPA = 4.7\n"
     ]
    }
   ],
   "source": [
    "#Convert to float\n",
    "\n",
    "grade = float(97)\n",
    "gpa  = float (5)\n",
    "cgpa = float (\"4.7\")\n",
    "\n",
    "print(f\"Grade = {grade}\")\n",
    "print(f\"GPA = {gpa}\")\n",
    "print(f\"CGPA = {cgpa}\")"
   ]
  },
  {
   "cell_type": "code",
   "execution_count": null,
   "id": "5e0d21ea-7a59-4d4a-94d2-38cf558fd868",
   "metadata": {},
   "outputs": [],
   "source": []
  }
 ],
 "metadata": {
  "kernelspec": {
   "display_name": "Python [conda env:base] *",
   "language": "python",
   "name": "conda-base-py"
  },
  "language_info": {
   "codemirror_mode": {
    "name": "ipython",
    "version": 3
   },
   "file_extension": ".py",
   "mimetype": "text/x-python",
   "name": "python",
   "nbconvert_exporter": "python",
   "pygments_lexer": "ipython3",
   "version": "3.12.7"
  }
 },
 "nbformat": 4,
 "nbformat_minor": 5
}
